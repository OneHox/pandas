{
 "cells": [
  {
   "cell_type": "markdown",
   "id": "cad69efc-2754-4533-a963-0520e8d208d5",
   "metadata": {},
   "source": [
    "# Multiple Ways"
   ]
  },
  {
   "cell_type": "code",
   "execution_count": 12,
   "id": "60444224-5580-4e8c-8ab1-8738c3388c99",
   "metadata": {},
   "outputs": [
    {
     "data": {
      "text/plain": [
       "[2, 4, 6, 8, 10, 12, 14, 16, 18, 20, 22, 24, 26, 28]"
      ]
     },
     "execution_count": 12,
     "metadata": {},
     "output_type": "execute_result"
    }
   ],
   "source": [
    "[i for i in range(2, 30, 2)]"
   ]
  },
  {
   "cell_type": "code",
   "execution_count": 13,
   "id": "27fa947e-5bed-440b-8bb8-51d39db125c4",
   "metadata": {},
   "outputs": [
    {
     "data": {
      "text/plain": [
       "[2, 4, 6, 8, 10, 12, 14, 16, 18, 20, 22, 24, 26, 28]"
      ]
     },
     "execution_count": 13,
     "metadata": {},
     "output_type": "execute_result"
    }
   ],
   "source": [
    "list( map( lambda x : x, list( range( 2, 30, 2 ) ) ) )"
   ]
  },
  {
   "cell_type": "code",
   "execution_count": 14,
   "id": "d61e3663-e79a-46c2-b71b-6b312939f4c6",
   "metadata": {},
   "outputs": [
    {
     "data": {
      "text/plain": [
       "[2, 4, 6, 8, 10, 12, 14, 16, 18, 20, 22, 24, 26, 28]"
      ]
     },
     "execution_count": 14,
     "metadata": {},
     "output_type": "execute_result"
    }
   ],
   "source": [
    "list(range(2, 30, 2))"
   ]
  },
  {
   "cell_type": "code",
   "execution_count": 16,
   "id": "57571872-67cd-4049-87cd-6d0d49b3e76a",
   "metadata": {},
   "outputs": [],
   "source": [
    "a = 5\n",
    "b = 5"
   ]
  },
  {
   "cell_type": "code",
   "execution_count": 17,
   "id": "84e09f39-788c-4956-bb4e-fac324c5f91a",
   "metadata": {},
   "outputs": [
    {
     "name": "stdout",
     "output_type": "stream",
     "text": [
      "True True\n"
     ]
    }
   ],
   "source": [
    "print(a is b, a == b)"
   ]
  },
  {
   "cell_type": "code",
   "execution_count": 18,
   "id": "bc97a764-2be3-437f-9605-2132d7f5b5cb",
   "metadata": {},
   "outputs": [
    {
     "data": {
      "text/plain": [
       "(281473880881584, 281473880881584)"
      ]
     },
     "execution_count": 18,
     "metadata": {},
     "output_type": "execute_result"
    }
   ],
   "source": [
    "id(a), id(b)"
   ]
  },
  {
   "cell_type": "code",
   "execution_count": 19,
   "id": "7d393a21-4eb1-45c1-a43a-ed94b337ab44",
   "metadata": {},
   "outputs": [],
   "source": [
    "## WAP to reverse a given string"
   ]
  },
  {
   "cell_type": "code",
   "execution_count": 20,
   "id": "8ff08b01-8932-43dd-882f-af603a32d557",
   "metadata": {},
   "outputs": [
    {
     "data": {
      "text/plain": [
       "'dlrow olleh'"
      ]
     },
     "execution_count": 20,
     "metadata": {},
     "output_type": "execute_result"
    }
   ],
   "source": [
    "st = \"hello world\"\n",
    "st[::-1]"
   ]
  },
  {
   "cell_type": "code",
   "execution_count": 32,
   "id": "3531a377-4d8a-4121-844f-1a39ba2b98bd",
   "metadata": {},
   "outputs": [
    {
     "data": {
      "text/plain": [
       "'dlrow olleh'"
      ]
     },
     "execution_count": 32,
     "metadata": {},
     "output_type": "execute_result"
    }
   ],
   "source": [
    "''.join(reversed(st))"
   ]
  },
  {
   "cell_type": "code",
   "execution_count": 33,
   "id": "251512a5-6be4-4ff0-a38e-714dc5742243",
   "metadata": {},
   "outputs": [
    {
     "data": {
      "text/plain": [
       "'dlrow olleh'"
      ]
     },
     "execution_count": 33,
     "metadata": {},
     "output_type": "execute_result"
    }
   ],
   "source": [
    "''.join(st[i] for i in range(len(st)-1, -1, -1))"
   ]
  },
  {
   "cell_type": "code",
   "execution_count": 21,
   "id": "7759dff0-c9b6-4a6a-91fe-a30b74ce5452",
   "metadata": {},
   "outputs": [
    {
     "name": "stdout",
     "output_type": "stream",
     "text": [
      "h,e,l,l,o, ,w,o,r,l,d,"
     ]
    }
   ],
   "source": [
    "for i in st:\n",
    "    print(i, end=\",\")"
   ]
  }
 ],
 "metadata": {
  "kernelspec": {
   "display_name": "Python 3 (ipykernel)",
   "language": "python",
   "name": "python3"
  },
  "language_info": {
   "codemirror_mode": {
    "name": "ipython",
    "version": 3
   },
   "file_extension": ".py",
   "mimetype": "text/x-python",
   "name": "python",
   "nbconvert_exporter": "python",
   "pygments_lexer": "ipython3",
   "version": "3.9.19"
  }
 },
 "nbformat": 4,
 "nbformat_minor": 5
}
